{
 "cells": [
  {
   "cell_type": "markdown",
   "id": "4efb9327",
   "metadata": {},
   "source": [
    "## AwareNet-CLIP evaluation on CIFAR10"
   ]
  },
  {
   "cell_type": "code",
   "execution_count": 13,
   "id": "480bbd4a",
   "metadata": {
    "scrolled": false
   },
   "outputs": [],
   "source": [
    "import torch\n",
    "import torch.nn as nn\n",
    "import torch.optim as optim\n",
    "from torch.autograd import Variable\n",
    "import torchvision\n",
    "from torchvision.datasets import CIFAR10\n",
    "from torchvision.transforms import transforms\n",
    "from torch.utils.data import DataLoader\n",
    "import pathlib\n",
    "import numpy as np\n",
    "import os\n",
    "import clip\n",
    "from awareness import awareness\n",
    "import psutil\n",
    "import nvidia_smi\n",
    "from torchvision.datasets import CIFAR10"
   ]
  },
  {
   "cell_type": "code",
   "execution_count": 7,
   "id": "0b5b8301",
   "metadata": {},
   "outputs": [
    {
     "name": "stdout",
     "output_type": "stream",
     "text": [
      "Device: cuda\n"
     ]
    }
   ],
   "source": [
    "device = torch.device('cuda' if torch.cuda.is_available() else 'cpu')\n",
    "print(f'Device: {device}')\n",
    "\n",
    "process = psutil.Process(os.getpid())\n",
    "init_res = process.memory_info().rss\n",
    "nvidia_smi.nvmlInit()\n",
    "handle = nvidia_smi.nvmlDeviceGetHandleByIndex(0)\n",
    "info = nvidia_smi.nvmlDeviceGetMemoryInfo(handle)\n",
    "init_gpu = info.used\n",
    "nvidia_smi.nvmlShutdown()"
   ]
  },
  {
   "cell_type": "code",
   "execution_count": 10,
   "id": "c61ec7e0",
   "metadata": {},
   "outputs": [],
   "source": [
    "BATCH_SIZE = 1024\n",
    "DYNAMIC_RAY = True\n",
    "\n",
    "CHK_PATH = 'checkpoints/awarenet-clip_cifar10/awarenet-clip_cifar10_16_0.8904_10745'\n",
    "CLIP_PATH = f'{CHK_PATH}/clip.pt'\n",
    "AWAR_PATH = f'{CHK_PATH}/awarenet.pt'"
   ]
  },
  {
   "cell_type": "code",
   "execution_count": 12,
   "id": "284570ee",
   "metadata": {},
   "outputs": [
    {
     "ename": "NameError",
     "evalue": "name 'PIL' is not defined",
     "output_type": "error",
     "traceback": [
      "\u001b[0;31m---------------------------------------------------------------------------\u001b[0m",
      "\u001b[0;31mNameError\u001b[0m                                 Traceback (most recent call last)",
      "Cell \u001b[0;32mIn[12], line 2\u001b[0m\n\u001b[1;32m      1\u001b[0m preprocess \u001b[38;5;241m=\u001b[39m transforms\u001b[38;5;241m.\u001b[39mCompose([\n\u001b[0;32m----> 2\u001b[0m     transforms\u001b[38;5;241m.\u001b[39mResize(size\u001b[38;5;241m=\u001b[39m\u001b[38;5;241m224\u001b[39m, interpolation\u001b[38;5;241m=\u001b[39m\u001b[43mPIL\u001b[49m\u001b[38;5;241m.\u001b[39mImage\u001b[38;5;241m.\u001b[39mBICUBIC),\n\u001b[1;32m      3\u001b[0m     transforms\u001b[38;5;241m.\u001b[39mCenterCrop(size\u001b[38;5;241m=\u001b[39m(\u001b[38;5;241m224\u001b[39m, \u001b[38;5;241m224\u001b[39m)),\n\u001b[1;32m      4\u001b[0m     transforms\u001b[38;5;241m.\u001b[39mToTensor(),\n\u001b[1;32m      5\u001b[0m     transforms\u001b[38;5;241m.\u001b[39mNormalize(mean\u001b[38;5;241m=\u001b[39m(\u001b[38;5;241m0.48145466\u001b[39m, \u001b[38;5;241m0.4578275\u001b[39m, \u001b[38;5;241m0.40821073\u001b[39m), \n\u001b[1;32m      6\u001b[0m         std\u001b[38;5;241m=\u001b[39m(\u001b[38;5;241m0.26862954\u001b[39m, \u001b[38;5;241m0.26130258\u001b[39m, \u001b[38;5;241m0.27577711\u001b[39m)),\n\u001b[1;32m      7\u001b[0m ])\n\u001b[1;32m      9\u001b[0m clip_model \u001b[38;5;241m=\u001b[39m torch\u001b[38;5;241m.\u001b[39mload(CLIP_PATH)\n\u001b[1;32m     10\u001b[0m clip_model\u001b[38;5;241m.\u001b[39meval()\u001b[38;5;241m.\u001b[39mto(device)\n",
      "\u001b[0;31mNameError\u001b[0m: name 'PIL' is not defined"
     ]
    }
   ],
   "source": [
    "preprocess = transforms.Compose([\n",
    "    transforms.Resize(size=224, interpolation=PIL.Image.BICUBIC),\n",
    "    transforms.CenterCrop(size=(224, 224)),\n",
    "    transforms.ToTensor(),\n",
    "    transforms.Normalize(mean=(0.48145466, 0.4578275, 0.40821073), \n",
    "        std=(0.26862954, 0.26130258, 0.27577711)),\n",
    "])\n",
    "\n",
    "clip_model = torch.load(CLIP_PATH)\n",
    "clip_model.eval().to(device)\n",
    "\n",
    "awareness_model = torch.load(AWAR_PATH, map_location=torch.device(device))\n",
    "awareness_model.to(device)"
   ]
  },
  {
   "cell_type": "code",
   "execution_count": 8,
   "id": "bf6d7472",
   "metadata": {},
   "outputs": [
    {
     "name": "stdout",
     "output_type": "stream",
     "text": [
      "Files already downloaded and verified\n",
      "Files already downloaded and verified\n"
     ]
    }
   ],
   "source": [
    "cifar10_train = CIFAR10(os.path.expanduser(\"~/.cache\"), train=True, transform=preprocess, download=True)\n",
    "cifar10_test = CIFAR10(os.path.expanduser(\"~/.cache\"), train=False, transform=preprocess, download=True)\n",
    "\n",
    "test_loader = DataLoader(\n",
    "    cifar10_test,\n",
    "    batch_size=BATCH_SIZE,\n",
    "    shuffle=True\n",
    ")"
   ]
  },
  {
   "cell_type": "code",
   "execution_count": 10,
   "id": "79599bbd",
   "metadata": {
    "scrolled": true
   },
   "outputs": [
    {
     "name": "stdout",
     "output_type": "stream",
     "text": [
      "Reference instances (N): 10745, Test accuracy: 0.8902\n"
     ]
    }
   ],
   "source": [
    "starter, ender = torch.cuda.Event(enable_timing=True), torch.cuda.Event(enable_timing=True)\n",
    "\n",
    "with torch.no_grad(): \n",
    "\n",
    "    test_correct_preds_batches = []\n",
    "    test_count = 0\n",
    "\n",
    "    clip_model.eval()\n",
    "    awarenet_model.eval()\n",
    "    \n",
    "    references = awarenet_model.awareness.ref_insts\n",
    "    \n",
    "    n_ref_insts = len(references)\n",
    "    \n",
    "    inf_times = []\n",
    "\n",
    "    for i, (images, labels) in enumerate(test_loader):\n",
    "\n",
    "        if torch.cuda.is_available():\n",
    "            images = Variable(images.cuda())\n",
    "            labels = Variable(labels.cuda())\n",
    "            \n",
    "        starter.record()\n",
    "\n",
    "        features = clip_model.encode_image(images).float()\n",
    "        preds = awarenet_model.forward(torch.unsqueeze(features,1))\n",
    "        \n",
    "        ender.record()\n",
    "        torch.cuda.synchronize()\n",
    "        inf_times.append(starter.elapsed_time(ender))\n",
    "\n",
    "        test_correct_preds_batch = utils.correct_preds_numpy(np.array(preds), labels.cpu().numpy())\n",
    "        test_correct_preds_batches.append(test_correct_preds_batch)\n",
    "        test_count = test_count+len(images)\n",
    "\n",
    "        test_batch_accuracy = round(np.sum(test_correct_preds_batch)/preds.size(0), 4)\n",
    "\n",
    "        run_res = process.memory_info().rss\n",
    "            \n",
    "        nvidia_smi.nvmlInit()\n",
    "        handle = nvidia_smi.nvmlDeviceGetHandleByIndex(0)\n",
    "        info = nvidia_smi.nvmlDeviceGetMemoryInfo(handle)\n",
    "        run_gpu = info.used\n",
    "        nvidia_smi.nvmlShutdown()\n",
    "                    \n",
    "    test_accuracy = round(np.sum(test_correct_preds_batches)/test_count, 4)\n",
    "\n",
    "    RAM_usg = round((run_res-init_res)*1e-09,2)\n",
    "    GPU_usg = round((run_gpu-init_gpu)*1e-09,2)\n",
    "\n",
    "    inf_times_np = np.array(inf_times)\n",
    "    mean_syn = round(np.sum(inf_times_np)/inf_times_np.shape[0],2)\n",
    "    std_syn = round(np.std(inf_times_np),2)\n",
    "    \n",
    "    print(f'Reference instances (N): {n_ref_insts}, Test accuracy: {test_accuracy}')\n",
    "    print(f'RAM usage: {RAM_usg} GB')\n",
    "    print(f'GPU usage: {GPU_usg} GB')\n",
    "    print(f'Inference time: {mean_syn} ± {std_syn} ms')"
   ]
  },
  {
   "cell_type": "code",
   "execution_count": null,
   "id": "c47a389d",
   "metadata": {},
   "outputs": [],
   "source": []
  }
 ],
 "metadata": {
  "kernelspec": {
   "display_name": "Python 3 (ipykernel)",
   "language": "python",
   "name": "python3"
  },
  "language_info": {
   "codemirror_mode": {
    "name": "ipython",
    "version": 3
   },
   "file_extension": ".py",
   "mimetype": "text/x-python",
   "name": "python",
   "nbconvert_exporter": "python",
   "pygments_lexer": "ipython3",
   "version": "3.8.16"
  }
 },
 "nbformat": 4,
 "nbformat_minor": 5
}
